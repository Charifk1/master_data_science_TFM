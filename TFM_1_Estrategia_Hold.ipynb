{
 "cells": [
  {
   "cell_type": "code",
   "execution_count": 60,
   "id": "bd2ed624-9bd9-4cce-9fcd-c790b6fae435",
   "metadata": {},
   "outputs": [],
   "source": [
    "# Se importan las librerias que se van a utilizar\n",
    "import pandas as pd"
   ]
  },
  {
   "cell_type": "code",
   "execution_count": 55,
   "id": "1033cb3b-be3a-4bd7-ad13-47eb89e8ec06",
   "metadata": {},
   "outputs": [
    {
     "data": {
      "text/html": [
       "<div>\n",
       "<style scoped>\n",
       "    .dataframe tbody tr th:only-of-type {\n",
       "        vertical-align: middle;\n",
       "    }\n",
       "\n",
       "    .dataframe tbody tr th {\n",
       "        vertical-align: top;\n",
       "    }\n",
       "\n",
       "    .dataframe thead th {\n",
       "        text-align: right;\n",
       "    }\n",
       "</style>\n",
       "<table border=\"1\" class=\"dataframe\">\n",
       "  <thead>\n",
       "    <tr style=\"text-align: right;\">\n",
       "      <th></th>\n",
       "      <th>DateTime</th>\n",
       "      <th>Open</th>\n",
       "      <th>High</th>\n",
       "      <th>Low</th>\n",
       "      <th>Close</th>\n",
       "      <th>Volume</th>\n",
       "    </tr>\n",
       "  </thead>\n",
       "  <tbody>\n",
       "    <tr>\n",
       "      <th>0</th>\n",
       "      <td>03.01.2023 00:50:00.000</td>\n",
       "      <td>130.723</td>\n",
       "      <td>130.741</td>\n",
       "      <td>130.639</td>\n",
       "      <td>130.639</td>\n",
       "      <td>949.91</td>\n",
       "    </tr>\n",
       "    <tr>\n",
       "      <th>1</th>\n",
       "      <td>03.01.2023 00:55:00.000</td>\n",
       "      <td>130.639</td>\n",
       "      <td>130.642</td>\n",
       "      <td>130.570</td>\n",
       "      <td>130.606</td>\n",
       "      <td>984.92</td>\n",
       "    </tr>\n",
       "    <tr>\n",
       "      <th>2</th>\n",
       "      <td>03.01.2023 01:00:00.000</td>\n",
       "      <td>130.612</td>\n",
       "      <td>130.677</td>\n",
       "      <td>130.612</td>\n",
       "      <td>130.659</td>\n",
       "      <td>1078.22</td>\n",
       "    </tr>\n",
       "    <tr>\n",
       "      <th>3</th>\n",
       "      <td>03.01.2023 01:05:00.000</td>\n",
       "      <td>130.659</td>\n",
       "      <td>130.714</td>\n",
       "      <td>130.578</td>\n",
       "      <td>130.628</td>\n",
       "      <td>1477.32</td>\n",
       "    </tr>\n",
       "    <tr>\n",
       "      <th>4</th>\n",
       "      <td>03.01.2023 01:10:00.000</td>\n",
       "      <td>130.626</td>\n",
       "      <td>130.630</td>\n",
       "      <td>130.198</td>\n",
       "      <td>130.209</td>\n",
       "      <td>2890.75</td>\n",
       "    </tr>\n",
       "  </tbody>\n",
       "</table>\n",
       "</div>"
      ],
      "text/plain": [
       "                  DateTime     Open     High      Low    Close   Volume\n",
       "0  03.01.2023 00:50:00.000  130.723  130.741  130.639  130.639   949.91\n",
       "1  03.01.2023 00:55:00.000  130.639  130.642  130.570  130.606   984.92\n",
       "2  03.01.2023 01:00:00.000  130.612  130.677  130.612  130.659  1078.22\n",
       "3  03.01.2023 01:05:00.000  130.659  130.714  130.578  130.628  1477.32\n",
       "4  03.01.2023 01:10:00.000  130.626  130.630  130.198  130.209  2890.75"
      ]
     },
     "execution_count": 55,
     "metadata": {},
     "output_type": "execute_result"
    }
   ],
   "source": [
    "# Se elige el PAR\n",
    "PAIR = 'USDJPY' \n",
    "\n",
    "# Lee el archivo CSV\n",
    "df = pd.read_csv(f\"data/{PAIR}/{PAIR}_Candlestick_5_m_BID_01.01.2023-31.07.2023.csv\", sep=\",\" )\n",
    "\n",
    "# Se renombra las columnas del DataFrame\n",
    "df.columns = [\"DateTime\", \"Open\", \"High\", \"Low\", \"Close\", \"Volume\"]\n",
    "\n",
    "# Se eliminan los valores NaN\n",
    "df = df.dropna(subset=['Close'], how='any')\n",
    "\n",
    "# Se seleccionan los datos con volumen\n",
    "df_filtered = df[df['Volume'] != 0]\n",
    "\n",
    "# Se carga en HISTORICAL_DATA_AUX \n",
    "historical_data_aux = df_filtered.reset_index(drop=True).copy()\n",
    "\n",
    "# Los primeros 320 datos se usan para calculos posteriores, como el VAR, o las operaciones de entramiento, por eso se tienen que quitar esos primeros datos\n",
    "historical_data = historical_data_aux[320:]\n",
    "historical_data.reset_index(drop=True, inplace=True)\n",
    "historical_data.head()"
   ]
  },
  {
   "cell_type": "code",
   "execution_count": 56,
   "id": "6e1e3ab3-23cd-4c16-ba0e-064253bd75f7",
   "metadata": {},
   "outputs": [
    {
     "name": "stdout",
     "output_type": "stream",
     "text": [
      "El precio de compra es: 130.639 y se mantiene hasta el valor de 142.324\n"
     ]
    }
   ],
   "source": [
    "entry = historical_data['Close'].iloc[0]\n",
    "exit = historical_data['Close'].iloc[-1]\n",
    "print(f\"El precio de compra es: {entry} y se mantiene hasta el valor de {exit}\")"
   ]
  },
  {
   "cell_type": "code",
   "execution_count": 57,
   "id": "dca36a49-7469-46ed-8b93-90e94e40a2d1",
   "metadata": {},
   "outputs": [
    {
     "data": {
      "text/plain": [
       "1168.5"
      ]
     },
     "execution_count": 57,
     "metadata": {},
     "output_type": "execute_result"
    }
   ],
   "source": [
    "pip = 0.01 # Valor de un pip en USDJPY\n",
    "# Se calcula la diferencia entre la compra y la salida que sería el ultimo valor\n",
    "diff = exit - entry\n",
    "# Numero de pips\n",
    "total_pips =  round((diff/pip),1)\n",
    "total_pips"
   ]
  },
  {
   "cell_type": "code",
   "execution_count": 1,
   "id": "2894703c-96c2-4f77-a576-e9f9339bc468",
   "metadata": {},
   "outputs": [],
   "source": [
    "# Eso es comprar y manenter pero apalancado\n",
    "# Esta parte más teórica del apalancamiento se encuentra explicada en el documento que acompaña este código."
   ]
  },
  {
   "cell_type": "markdown",
   "id": "cd839277-c0fe-4802-baad-05c5df7fe295",
   "metadata": {
    "tags": []
   },
   "source": [
    "### Segun la estrategia que se ha definido 10 pips son 1%, esto depende del número de lotes pero por seguir la misma estructura se define el mismo número de lotes que la estrategia de trading"
   ]
  },
  {
   "cell_type": "code",
   "execution_count": 58,
   "id": "b5a645f0-1f7e-41e2-8d9b-ad557163fe10",
   "metadata": {},
   "outputs": [
    {
     "name": "stdout",
     "output_type": "stream",
     "text": [
      "La diferencia en porcentaje de comprar y mantener es de un 116.85 %\n"
     ]
    }
   ],
   "source": [
    "# Se calcula el porcentaje de beneficio o pérdida\n",
    "percentage = total_pips*1/10\n",
    "print(\"La diferencia en porcentaje de comprar y mantener es de un\", round(percentage,2), \"%\")"
   ]
  },
  {
   "cell_type": "code",
   "execution_count": 59,
   "id": "8d37907e-896e-4043-8c07-4255045def72",
   "metadata": {},
   "outputs": [
    {
     "name": "stdout",
     "output_type": "stream",
     "text": [
      "El balance final de la estrategia de compra y mantener empezando con un balance inicial de 100000$, sería de: 216850.0$\n"
     ]
    }
   ],
   "source": [
    "# El balance inicial es fijo, y según la diferencia si es positiva o negativa habrá beneficio o pérdida\n",
    "initial_balance = 100000\n",
    "if diff >= 0:\n",
    "    balance = initial_balance + initial_balance*percentage/100\n",
    "else:\n",
    "    balance = initial_balance - initial_balance*percentage/100\n",
    "\n",
    "print(f\"El balance final de la estrategia de compra y mantener empezando con un balance inicial de 100000$, sería de: {balance}$\")"
   ]
  },
  {
   "cell_type": "code",
   "execution_count": 51,
   "id": "0adc8e2a-c550-4c81-b37b-1c2e198279f6",
   "metadata": {},
   "outputs": [],
   "source": [
    "# SE HA HECHO LA MISMA ESTRATEGIA SE HA USADO DIGAMOS QUE LOS MISMOS LOTES QUE SI USARAMOS UNA ESTRATEGIA DE TRADING"
   ]
  }
 ],
 "metadata": {
  "kernelspec": {
   "display_name": "Python 3 (ipykernel)",
   "language": "python",
   "name": "python3"
  },
  "language_info": {
   "codemirror_mode": {
    "name": "ipython",
    "version": 3
   },
   "file_extension": ".py",
   "mimetype": "text/x-python",
   "name": "python",
   "nbconvert_exporter": "python",
   "pygments_lexer": "ipython3",
   "version": "3.9.5"
  }
 },
 "nbformat": 4,
 "nbformat_minor": 5
}
